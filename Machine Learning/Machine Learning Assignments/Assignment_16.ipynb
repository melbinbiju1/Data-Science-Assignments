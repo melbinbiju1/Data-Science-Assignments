{
 "cells": [
  {
   "cell_type": "markdown",
   "metadata": {},
   "source": [
    "**1. In a linear equation, what is the difference between a dependent variable and an independent variable?**\n",
    "\n",
    "**Solution:-** Mathematically, a linear equation typically of the form \n",
    "\n",
    "y = mx + b, \n",
    "\n",
    "where m and b are constants, \n",
    "\n",
    "x is the independent variable, \n",
    "\n",
    "y is the dependent variable. \n",
    "\n",
    "The slope tells us how the dependent variable (y) changes for every one unit increase in the independent (x) variable, on average.\n",
    "\n",
    "The variables in a study of a cause-and-effect relationship are called the independent and dependent variables. The independent variable is the cause and its value is independent of other variables in your study. The dependent variable is the effect.\n",
    "\n",
    "**2. What is the concept of simple linear regression? Give a specific example.**\n",
    "\n",
    "**Solution:-** \n",
    "Simple linear regression is a regression model which estimates the relationship between one independent variable and one dependent variable using a straight line. Both variables should be quantitative in nature. Linear regression model most often uses mean-square error (MSE) to calculate the error/ loss of the model.\n",
    "This would mean that we need to make sure that the distance between the fitted regression line and the data points(residuals) is least. \n",
    "Assumptions for linear regression model are\n",
    "- Linearity\n",
    "- Independence of variables involved\n",
    "- residuals must be normally distributed are assumptions\n",
    "\n",
    "\n",
    "For example, suppose that height was the only determinant of body weight.In this example, if an individual was 70 inches tall, we would predict his weight to be: Weight = 80 + 2 x (70) = 220 lbs. In this simple linear regression, we are examining the impact of one independent variable on the outcome.\n",
    "![image](https://miro.medium.com/max/1042/1*a4TZt84u3X8oOD1OAHX_mg.jpeg)\n",
    "\n",
    "**3. In a linear regression, define the slope.**\n",
    "\n",
    "**Solution:-**  The slope of a regression line (b) represents **the rate of change in y as x changes.** Because y is dependent on x, the slope describes the predicted values of y given x. The slope must be calculated before the y-intercept when using a linear regression, as the intercept is calculated using the slope.\n",
    "\n",
    "Slope, m=(y2-y1)/(x2-x1)\n",
    "\n",
    "Slope establishes the relationship (negatively linear or positively linear) between feature and the target variable."
   ]
  },
  {
   "cell_type": "markdown",
   "metadata": {},
   "source": [
    "**4. Determine the graph's slope, where the lower point on the line is represented as (3, 2) and the higher point is represented as (2, 2).**\n",
    "\n",
    "**Solution:-** \n",
    "Slope, m=(y2-y1)/(x2-x1)\n",
    "\n",
    "Slope, m= (2-2)/(2-3)=0/-1 = 0"
   ]
  },
  {
   "cell_type": "markdown",
   "metadata": {},
   "source": [
    "**5. In linear regression, what are the conditions for a positive slope?**\n",
    "\n",
    "**Solution:-** \n",
    "If the slope is positive, y increases as x increases, and the function runs \"uphill\" (going left to right). \n",
    "\n",
    "However, If the slope is zero, y does not change, thus is constant—a horizontal line.\n",
    "\n",
    "![image](https://th.bing.com/th/id/R.aa5d5af7edf2460fdd57cbf56a5ff266?rik=Xcxx3NdLNCyhoQ&riu=http%3a%2f%2fcf.ppt-online.org%2ffiles%2fslide%2ff%2ffgqPFKm6CQvDWcTUYwoiJzpNju5Gs4L9SbMaet%2fslide-6.jpg&ehk=x74%2b%2bcKdVKsy5ulSEMuda%2bRFBOZi1e1Y6HBZg%2bbWHrE%3d&risl=&pid=ImgRaw&r=0)"
   ]
  },
  {
   "cell_type": "markdown",
   "metadata": {},
   "source": [
    "**6. In linear regression, what are the conditions for a negative slope?**\n",
    "\n",
    "**Solution:-** If the slope is negative, y decreases as x increases and the function runs downhill."
   ]
  },
  {
   "cell_type": "markdown",
   "metadata": {},
   "source": [
    "**7. What is multiple linear regression and how does it work?**\n",
    "\n",
    "**Solution:-** Multiple linear regression is an extension of the concept of simple linear regression in which two or more independent variables tries to predict the outcome of a dependent variable. This technique enables analysts to determine the variation of the model and the relative contribution of each independent variable in the total variance.\n",
    "\n",
    "![image1](https://miro.medium.com/max/1400/1*uLHXR8LKGDucpwUYHx3VaQ.png)"
   ]
  },
  {
   "cell_type": "markdown",
   "metadata": {},
   "source": [
    "**8. In multiple linear regression, define the number of squares due to error.**\n",
    "\n",
    "**Solution:-** The mean squared error (MSE) tells you how close a regression line is to a set of points. It does this by taking the distances from the points to the regression line (these distances are the “errors”) and squaring them. It's called the mean squared error as you're finding the average of a set of errors."
   ]
  },
  {
   "cell_type": "markdown",
   "metadata": {},
   "source": [
    "**9. In multiple linear regression, define the number of squares due to regression.**\n",
    "\n",
    "**Solution:-** Sum of squares is a statistical technique used in regression analysis to determine the dispersion of data points. In a regression analysis, the goal is to determine how well a data series can be fitted to a function that might help to explain how the data series was generated."
   ]
  },
  {
   "cell_type": "markdown",
   "metadata": {},
   "source": [
    "**10.In a regression equation, what is multicollinearity?**\n",
    "\n",
    "**Solution:-** Multicollinearity occurs when two or more independent variables are highly correlated with one another in a regression model. This means that an independent variable can be predicted from another independent variable in a regression model.\n",
    "\n",
    "So we drop one of those independent variable."
   ]
  },
  {
   "cell_type": "markdown",
   "metadata": {},
   "source": [
    "**11. What is heteroskedasticity, and what does it mean?**\n",
    "\n",
    "**Solution:-** Heteroskedasticity (also spelled heteroscedasticity) refers to **the error variance, or dependence of scattering, within a minimum of one independent variable within a particular sample.** A common cause of variances outside the minimum requirement is often attributed to issues of data quality."
   ]
  },
  {
   "cell_type": "markdown",
   "metadata": {},
   "source": [
    "**12. Describe the concept of ridge regression.**\n",
    "\n",
    "**Solution:-** Ridge Regression is a technique for analyzing multiple regression data that suffer from multicollinearity. By adding a degree of bias to the regression estimates, ridge regression reduces the standard errors. It is hoped that the net effect will be to give estimates that are more reliable.\n",
    "\n",
    "![image](https://www.analyticsvidhya.com/wp-content/uploads/2016/01/eq5-1.png)\n",
    "\n",
    "- Ridge: It generally works well even in presence of highly correlated features as it will include all of them in the model but the coefficients will be distributed among them depending on the correlation."
   ]
  },
  {
   "cell_type": "markdown",
   "metadata": {},
   "source": [
    "**13. Describe the concept of lasso regression.**\n",
    "\n",
    "**Solution:-** In statistics and machine learning, lasso (least absolute shrinkage and selection operator; also Lasso or LASSO) is a regression analysis method that performs both feature selection and regularization in order to enhance the prediction accuracy and interpretability of the resulting statistical model.\n",
    "\n",
    "It is used over regression methods for a more accurate prediction. This model uses shrinkage. Shrinkage is where data values are shrunk towards a central point as the mean.\n",
    "\n",
    "![image](https://www.analyticsvidhya.com/wp-content/uploads/2016/01/eq8-1.png)\n",
    "- Lasso: It arbitrarily selects any one feature among the highly correlated ones and reduced the coefficients of the rest to zero. Also, the chosen variable changes randomly with change in model parameters. This generally doesn’t work that well as compared to ridge regression."
   ]
  },
  {
   "cell_type": "markdown",
   "metadata": {},
   "source": [
    "**14. What is polynomial regression and how does it work?**\n",
    "\n",
    "**Solution:-** Polynomial Regression is a form of Linear regression known as a special case of Multiple linear regression which estimates the relationship as an nth degree polynomial. Polynomial Regression is sensitive to outliers so the presence of one or two outliers can also badly affect the performance."
   ]
  },
  {
   "cell_type": "markdown",
   "metadata": {},
   "source": [
    "**15. Describe the basis function.**\n",
    "\n",
    "**Solution:-** This is a generalization of linear regression that essentially replaces each input with a function of the input. (A linear basis function model that uses the identity function is just linear regression.)"
   ]
  },
  {
   "cell_type": "markdown",
   "metadata": {},
   "source": [
    "**16. Describe how logistic regression works.**\n",
    "\n",
    "**Solution:-** Logistic regression uses an equation as the representation, very much like linear regression. Input values (x) are combined linearly using weights or coefficient values (referred to as the Greek capital letter Beta) to predict an output value (y).\n",
    "\n",
    "Sigmoid function, Logarithmic transformation on the outcome variable allows us to model a non-linear association in a linear way. \n",
    "![im](https://miro.medium.com/max/1280/1*sOtpVYq2Msjxz51XMn1QSA.png)"
   ]
  },
  {
   "cell_type": "code",
   "execution_count": null,
   "metadata": {},
   "outputs": [],
   "source": []
  }
 ],
 "metadata": {
  "kernelspec": {
   "display_name": "Python 3 (ipykernel)",
   "language": "python",
   "name": "python3"
  },
  "language_info": {
   "codemirror_mode": {
    "name": "ipython",
    "version": 3
   },
   "file_extension": ".py",
   "mimetype": "text/x-python",
   "name": "python",
   "nbconvert_exporter": "python",
   "pygments_lexer": "ipython3",
   "version": "3.9.12"
  }
 },
 "nbformat": 4,
 "nbformat_minor": 4
}
