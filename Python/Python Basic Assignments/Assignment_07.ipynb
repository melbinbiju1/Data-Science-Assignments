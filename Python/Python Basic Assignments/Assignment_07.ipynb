{
 "cells": [
  {
   "cell_type": "markdown",
   "metadata": {},
   "source": [
    "# Assignment 7 Solutions"
   ]
  },
  {
   "cell_type": "markdown",
   "metadata": {},
   "source": [
    "#### 1. What is the name of the feature responsible for generating Regex objects?\n",
    "**Ans:** **`re.compile()`** is the feature responsible for  generation of Regex objects.\n",
    "In Python, the re module provides support for working with regular expressions. The feature responsible for generating Regex objects is the compile() function, which is used to compile a regular expression pattern into a Regex object.\n",
    "\n",
    "The compile() function takes a regular expression pattern as its first argument, and it returns a Regex object that can be used to match against text."
   ]
  },
  {
   "cell_type": "code",
   "execution_count": 3,
   "metadata": {},
   "outputs": [],
   "source": [
    "import re\n",
    "\n",
    "regex_pattern = re.compile(r'\\d+')"
   ]
  },
  {
   "cell_type": "markdown",
   "metadata": {},
   "source": [
    "Here, the regular expression pattern r'\\d+' matches one or more digits, and we pass it to the compile() function to create a Regex object. We can then use this Regex object to search for matches in text:"
   ]
  },
  {
   "cell_type": "code",
   "execution_count": 4,
   "metadata": {},
   "outputs": [
    {
     "name": "stdout",
     "output_type": "stream",
     "text": [
      "Match found: 100\n"
     ]
    }
   ],
   "source": [
    "text = 'The price is $100'\n",
    "match = regex_pattern.search(text)\n",
    "\n",
    "if match:\n",
    "    print('Match found:', match.group())\n",
    "else:\n",
    "    print('No match')\n"
   ]
  },
  {
   "cell_type": "markdown",
   "metadata": {},
   "source": [
    "In this example, the search() function of the Regex object is used to search for a match of the pattern in the text string. If a match is found, the group() function is used to extract the matched string."
   ]
  },
  {
   "cell_type": "markdown",
   "metadata": {},
   "source": [
    "#### 2. Why do raw strings often appear in Regex objects?"
   ]
  },
  {
   "cell_type": "markdown",
   "metadata": {},
   "source": [
    "The difference between a regular string and a raw string is that in a regular string, certain characters are treated specially, such as the backslash character \"\". The backslash is used to escape certain characters, such as a newline \"\\n\" or a tab \"\\t\", or to insert special characters such as Unicode characters.\n",
    "\n",
    "In a raw string, however, the backslash character is treated as a regular character and is not used to escape any other characters. This means that a raw string can contain backslashes without needing to escape them with another backslash."
   ]
  },
  {
   "cell_type": "code",
   "execution_count": 5,
   "metadata": {},
   "outputs": [
    {
     "name": "stdout",
     "output_type": "stream",
     "text": [
      "Hello\n",
      "World\n",
      "Hello\\nWorld\n"
     ]
    }
   ],
   "source": [
    "regular_string = \"Hello\\nWorld\"\n",
    "raw_string = r\"Hello\\nWorld\"\n",
    "\n",
    "print(regular_string)  # output: Hello\n",
    "                       #         World\n",
    "print(raw_string)      # output: Hello\\nWorld\n"
   ]
  },
  {
   "cell_type": "markdown",
   "metadata": {},
   "source": [
    "For example, consider the regex pattern \"\\d+\", which matches one or more digits. If we were to use a regular string instead of a raw string to create this pattern, we would need to escape the backslash character by writing it as \"\\\". So the pattern would become \"\\d+\". However, by using a raw string, we can write the pattern as r\"\\d+\", which is much easier to read and write."
   ]
  },
  {
   "cell_type": "markdown",
   "metadata": {},
   "source": [
    "raw strings are often used in regex object creation to simplify the creation of regex patterns and avoid potential bugs caused by escaping characters that have no special meaning in regex syntax."
   ]
  },
  {
   "cell_type": "markdown",
   "metadata": {},
   "source": [
    "#### 3. What is the return value of the search() method?\n",
    "**Ans:** The return value of `re.search(pattern,string)` method is a match object if the pattern is observed in the string else it returns a None"
   ]
  },
  {
   "cell_type": "code",
   "execution_count": 10,
   "metadata": {},
   "outputs": [
    {
     "name": "stdout",
     "output_type": "stream",
     "text": [
      "Pattern found at position: 10\n"
     ]
    }
   ],
   "source": [
    "import re\n",
    "\n",
    "# search for a pattern in a string\n",
    "text = \"The quick brown fox jumps over the lazy dog\"\n",
    "pattern = r\"brown\"\n",
    "\n",
    "match_object = re.search(pattern, text)\n",
    "\n",
    "if match_object:\n",
    "    print(\"Pattern found at position:\", match_object.start())\n",
    "else:\n",
    "    print(\"Pattern not found\")\n"
   ]
  },
  {
   "cell_type": "markdown",
   "metadata": {},
   "source": [
    "The search() method returns a match object if the pattern is found in the string, and None if the pattern is not found."
   ]
  },
  {
   "cell_type": "markdown",
   "metadata": {},
   "source": [
    "#### 4. From a Match item, how do you get the actual strings that match the pattern?\n",
    "**Ans:** For Matched items `group()` methods returns actual strings that match the pattern"
   ]
  },
  {
   "cell_type": "code",
   "execution_count": 12,
   "metadata": {},
   "outputs": [
    {
     "name": "stdout",
     "output_type": "stream",
     "text": [
      "Pattern found : brown\n"
     ]
    }
   ],
   "source": [
    "import re\n",
    "\n",
    "# search for a pattern in a string\n",
    "text = \"The quick brown fox jumps over the lazy dog\"\n",
    "pattern = r\"brown\"\n",
    "\n",
    "match_object = re.search(pattern, text)\n",
    "\n",
    "if match_object:\n",
    "    print(\"Pattern found :\", match_object.group())\n",
    "else:\n",
    "    print(\"Pattern not found\")"
   ]
  },
  {
   "cell_type": "markdown",
   "metadata": {},
   "source": [
    "#### 5. In the regex which created from the r'(\\d\\d\\d)-(\\d\\d\\d-\\d\\d\\d\\d)', what does group zero cover? Group 2? Group 1?\n",
    "**Ans:** In the Regex **`r'(\\d\\d\\d)-(\\d\\d\\d-\\d\\d\\d\\d)'`** the zero group covers the entire pattern match where as the first group cover **`(\\d\\d\\d)`** and the second group cover **`(\\d\\d\\d-\\d\\d\\d\\d)`**"
   ]
  },
  {
   "cell_type": "code",
   "execution_count": 19,
   "metadata": {},
   "outputs": [
    {
     "name": "stdout",
     "output_type": "stream",
     "text": [
      "Group 0 (full match): 123-456-7890\n",
      "Group 1 (area code): 123\n",
      "Group 2 (phone number): 456-7890\n"
     ]
    }
   ],
   "source": [
    "import re\n",
    "\n",
    "text = \"My phone number is 123-456-7890\"\n",
    "pattern = r'(\\d\\d\\d)-(\\d\\d\\d-\\d\\d\\d\\d)'\n",
    "\n",
    "match_object = re.search(pattern, text)\n",
    "\n",
    "if match_object:\n",
    "    print(\"Group 0 (full match):\", match_object.group(0))\n",
    "    print(\"Group 1 (area code):\", match_object.group(1))\n",
    "    print(\"Group 2 (phone number):\", match_object.group(2))"
   ]
  },
  {
   "cell_type": "code",
   "execution_count": 14,
   "metadata": {},
   "outputs": [
    {
     "name": "stdout",
     "output_type": "stream",
     "text": [
      "123-456-7890\n"
     ]
    }
   ],
   "source": [
    "print(match_object.group())"
   ]
  },
  {
   "cell_type": "markdown",
   "metadata": {},
   "source": [
    "#### 6. In standard expression syntax, parentheses and intervals have distinct meanings. How can you tell a regex that you want it to fit real parentheses and periods?\n",
    "**Ans:** The **`\\.`** **`\\(`** and **`\\)`** escape characters in the raw string passed to re.compile() will match actual parenthesis characters."
   ]
  },
  {
   "cell_type": "code",
   "execution_count": 20,
   "metadata": {},
   "outputs": [
    {
     "name": "stdout",
     "output_type": "stream",
     "text": [
      "Match found: (example.com)\n"
     ]
    }
   ],
   "source": [
    "import re\n",
    "\n",
    "text = \"(example.com)\"\n",
    "pattern = r\"\\(example\\.com\\)\"  # escape parentheses and period\n",
    "\n",
    "match_object = re.search(pattern, text)\n",
    "\n",
    "if match_object:\n",
    "    print(\"Match found:\", match_object.group())\n",
    "else:\n",
    "    print(\"Match not found\")"
   ]
  },
  {
   "cell_type": "code",
   "execution_count": 21,
   "metadata": {},
   "outputs": [
    {
     "name": "stdout",
     "output_type": "stream",
     "text": [
      "(example.com)\n"
     ]
    }
   ],
   "source": [
    "print(match_object.group())"
   ]
  },
  {
   "cell_type": "markdown",
   "metadata": {},
   "source": [
    "#### 7. The findall() method returns a string list or a list of string tuples. What causes it to return one of the two options?\n",
    "**Ans:** If the regex pattern has no groups, a list of strings matched is returned. if the regex pattern has groups, a list of tuple of strings is returned."
   ]
  },
  {
   "cell_type": "code",
   "execution_count": 27,
   "metadata": {},
   "outputs": [
    {
     "name": "stdout",
     "output_type": "stream",
     "text": [
      "['cat', 'cat']\n"
     ]
    }
   ],
   "source": [
    "import re\n",
    "\n",
    "text = \"The cat sat on the mat. The other cat ate the rat.\"\n",
    "pattern = r\"cat\"\n",
    "\n",
    "matches = re.findall(pattern, text)\n",
    "print(matches)\n",
    "# Output: ['cat', 'cat']"
   ]
  },
  {
   "cell_type": "code",
   "execution_count": 28,
   "metadata": {},
   "outputs": [
    {
     "name": "stdout",
     "output_type": "stream",
     "text": [
      "[('123', '456-7890'), ('456', '789-1234')]\n"
     ]
    }
   ],
   "source": [
    "import re\n",
    "\n",
    "text = \"My phone number is 123-456-7890. Her phone number is 456-789-1234.\"\n",
    "pattern = r\"(\\d{3})-(\\d{3}-\\d{4})\"\n",
    "\n",
    "matches = re.findall(pattern, text)\n",
    "print(matches)\n",
    "# Output: [('123', '456-7890'), ('456', '789-1234')]"
   ]
  },
  {
   "cell_type": "markdown",
   "metadata": {},
   "source": [
    "#### 8. In standard expressions, what does the | character mean?\n",
    "**Ans:** In Standard Expressions `|` means `OR` operator."
   ]
  },
  {
   "cell_type": "code",
   "execution_count": 29,
   "metadata": {},
   "outputs": [
    {
     "name": "stdout",
     "output_type": "stream",
     "text": [
      "['cat', 'dog']\n"
     ]
    }
   ],
   "source": [
    "import re\n",
    "\n",
    "text = \"I have a cat and a dog\"\n",
    "pattern = r\"cat|dog\"\n",
    "\n",
    "matches = re.findall(pattern, text)\n",
    "print(matches)\n",
    "# Output: ['cat', 'dog']\n"
   ]
  },
  {
   "cell_type": "markdown",
   "metadata": {},
   "source": [
    "#### 9. In regular expressions, what does the `?` character stand for?\n",
    "**Ans:** In regular Expressions, `?` characters represents zero or one match of the preceeding group."
   ]
  },
  {
   "cell_type": "code",
   "execution_count": 30,
   "metadata": {},
   "outputs": [
    {
     "name": "stdout",
     "output_type": "stream",
     "text": [
      "<re.Match object; span=(0, 5), match='color'>\n",
      "<re.Match object; span=(0, 6), match='colour'>\n"
     ]
    }
   ],
   "source": [
    "import re\n",
    "\n",
    "pattern = r\"colou?r\"\n",
    "\n",
    "string1 = \"color\"\n",
    "string2 = \"colour\"\n",
    "\n",
    "# Matching using the regular expression\n",
    "match1 = re.match(pattern, string1)\n",
    "match2 = re.match(pattern, string2)\n",
    "\n",
    "print(match1)  # <re.Match object; span=(0, 5), match='color'>\n",
    "print(match2)  # <re.Match object; span=(0, 6), match='colour'>\n"
   ]
  },
  {
   "cell_type": "markdown",
   "metadata": {},
   "source": [
    " the regular expression \"colou?r\" matches both \"color\" and \"colour\" because the \"u\" character preceding the question mark is optional."
   ]
  },
  {
   "cell_type": "code",
   "execution_count": 31,
   "metadata": {},
   "outputs": [
    {
     "name": "stdout",
     "output_type": "stream",
     "text": [
      "<re.Match object; span=(0, 17), match='http://google.com'>\n",
      "<re.Match object; span=(0, 22), match='https://www.google.com'>\n"
     ]
    }
   ],
   "source": [
    "import re\n",
    "\n",
    "pattern = r\"https?://(www\\.)?google\\.com\"\n",
    "\n",
    "string1 = \"http://google.com\"\n",
    "string2 = \"https://www.google.com\"\n",
    "\n",
    "# Matching using the regular expression\n",
    "match1 = re.match(pattern, string1)\n",
    "match2 = re.match(pattern, string2)\n",
    "\n",
    "print(match1)  # <re.Match object; span=(0, 17), match='http://google.com'>\n",
    "print(match2)  # <re.Match object; span=(0, 22), match='https://www.google.com'>\n"
   ]
  },
  {
   "cell_type": "markdown",
   "metadata": {},
   "source": [
    "#### 10.In regular expressions, what is the difference between the + and * characters?\n",
    "In regular expressions, the + and * characters are used to specify the number of occurrences of the preceding character or group. The main difference between the two characters is that the + matches one or more occurrences of the preceding character or group, while the * matches zero or more occurrences of the preceding character or group."
   ]
  },
  {
   "cell_type": "code",
   "execution_count": 8,
   "metadata": {},
   "outputs": [
    {
     "name": "stdout",
     "output_type": "stream",
     "text": [
      "<re.Match object; span=(0, 6), match='Batman'>\n",
      "None\n"
     ]
    }
   ],
   "source": [
    "import re\n",
    "match_1 = re.search(\"Bat(wo)*man\",\"Batman returns\")\n",
    "print(match_1)\n",
    "match_2 = re.search(\"Bat(wo)+man\",\"Batman returns\")\n",
    "print(match_2)"
   ]
  },
  {
   "cell_type": "code",
   "execution_count": 33,
   "metadata": {},
   "outputs": [
    {
     "name": "stdout",
     "output_type": "stream",
     "text": [
      "<re.Match object; span=(0, 3), match='gol'>\n",
      "<re.Match object; span=(0, 4), match='gool'>\n",
      "<re.Match object; span=(0, 6), match='gooool'>\n"
     ]
    }
   ],
   "source": [
    "import re\n",
    "\n",
    "pattern = r\"go+l\"\n",
    "\n",
    "string1 = \"gol\"\n",
    "string2 = \"gool\"\n",
    "string3 = \"gooool\"\n",
    "\n",
    "# Matching using the regular expression\n",
    "match1 = re.match(pattern, string1)\n",
    "match2 = re.match(pattern, string2)\n",
    "match3 = re.match(pattern, string3)\n",
    "\n",
    "print(match1) \n",
    "print(match2)  # <re.Match object; span=(0, 4), match='gool'>\n",
    "print(match3)  # <re.Match object; span=(0, 6), match='gooool'>"
   ]
  },
  {
   "cell_type": "code",
   "execution_count": 34,
   "metadata": {},
   "outputs": [
    {
     "name": "stdout",
     "output_type": "stream",
     "text": [
      "<re.Match object; span=(0, 2), match='gl'>\n",
      "<re.Match object; span=(0, 3), match='gol'>\n",
      "<re.Match object; span=(0, 4), match='gool'>\n",
      "<re.Match object; span=(0, 6), match='gooool'>\n"
     ]
    }
   ],
   "source": [
    "import re\n",
    "\n",
    "pattern = r\"go*l\"\n",
    "\n",
    "string1 = \"gl\"\n",
    "string2 = \"gol\"\n",
    "string3 = \"gool\"\n",
    "string4 = \"gooool\"\n",
    "\n",
    "# Matching using the regular expression\n",
    "match1 = re.match(pattern, string1)\n",
    "match2 = re.match(pattern, string2)\n",
    "match3 = re.match(pattern, string3)\n",
    "match4 = re.match(pattern, string4)\n",
    "\n",
    "print(match1)  # <re.Match object; span=(0, 2), match='gl'>\n",
    "print(match2)  # <re.Match object; span=(0, 3), match='gol'>\n",
    "print(match3)  # <re.Match object; span=(0, 4), match='gool'>\n",
    "print(match4)  # <re.Match object; span=(0, 6), match='gooool'>\n"
   ]
  },
  {
   "cell_type": "markdown",
   "metadata": {},
   "source": [
    "#### 11. What is the difference between {4} and {4,5} in regular expression?\n",
    "**Ans:** `{4}` means that its preceeding group should repeat 4 times. where as `{4,5}` means that its preceeding group should repeat mininum 4 times and maximum 5 times inclusively"
   ]
  },
  {
   "cell_type": "code",
   "execution_count": 36,
   "metadata": {},
   "outputs": [
    {
     "name": "stdout",
     "output_type": "stream",
     "text": [
      "<re.Match object; span=(0, 6), match='gooood'>\n",
      "None\n",
      "<re.Match object; span=(0, 6), match='gooood'>\n"
     ]
    }
   ],
   "source": [
    "import re\n",
    "\n",
    "pattern = r\"go{4}d\"\n",
    "\n",
    "string1 = \"gooood\"\n",
    "string2 = \"good\"\n",
    "string3 = \"goooodd\"\n",
    "\n",
    "# Matching using the regular expression\n",
    "match1 = re.match(pattern, string1)\n",
    "match2 = re.match(pattern, string2)\n",
    "match3 = re.match(pattern, string3)\n",
    "\n",
    "print(match1)  # <re.Match object; span=(0, 6), match='gooood'>\n",
    "print(match2)  # None\n",
    "print(match3)\n"
   ]
  },
  {
   "cell_type": "code",
   "execution_count": 37,
   "metadata": {},
   "outputs": [
    {
     "name": "stdout",
     "output_type": "stream",
     "text": [
      "<re.Match object; span=(0, 6), match='gooood'>\n",
      "None\n",
      "None\n",
      "<re.Match object; span=(0, 6), match='gooood'>\n"
     ]
    }
   ],
   "source": [
    "import re\n",
    "\n",
    "pattern = r\"go{4,5}d\"\n",
    "\n",
    "string1 = \"gooood\"\n",
    "string2 = \"gooooood\"\n",
    "string3 = \"good\"\n",
    "string4 = \"goooodd\"\n",
    "\n",
    "# Matching using the regular expression\n",
    "match1 = re.match(pattern, string1)\n",
    "match2 = re.match(pattern, string2)\n",
    "match3 = re.match(pattern, string3)\n",
    "match4 = re.match(pattern, string4)\n",
    "\n",
    "print(match1)  # <re.Match object; span=(0, 6), match='gooood'>\n",
    "print(match2)\n",
    "print(match3) \n",
    "print(match4)  \n"
   ]
  },
  {
   "cell_type": "markdown",
   "metadata": {},
   "source": [
    "#### 12. What do you mean by the \\d, \\w, and \\s shorthand character classes signify in regular expressions?\n",
    "**Ans:** \\d, \\w and \\s are special sequences in regular expresssions in python:\n",
    "1. **`\\w`** – Matches a word character equivalent to [a-zA-Z0-9_]\n",
    "2. **`\\d`** – Matches digit character equivalent to [0-9]\n",
    "3. **`\\s`** – Matches whitespace character (space, tab, newline, etc.)"
   ]
  },
  {
   "cell_type": "markdown",
   "metadata": {},
   "source": [
    "In regular expressions, shorthand character classes are special codes that represent a group of characters. "
   ]
  },
  {
   "cell_type": "code",
   "execution_count": 39,
   "metadata": {},
   "outputs": [
    {
     "name": "stdout",
     "output_type": "stream",
     "text": [
      "<re.Match object; span=(0, 4), match='1234'>\n",
      "None\n",
      "None\n"
     ]
    }
   ],
   "source": [
    "import re\n",
    "\n",
    "pattern = r\"\\d+\"\n",
    "\n",
    "string1 = \"1234\"\n",
    "string2 = \"a1b2c3\"\n",
    "string3 = \"   45   \"\n",
    "\n",
    "# Matching using the regular expression\n",
    "match1 = re.match(pattern, string1)\n",
    "match2 = re.match(pattern, string2)\n",
    "match3 = re.match(pattern, string3)\n",
    "\n",
    "print(match1)  # <re.Match object; span=(0, 4), match='1234'>\n",
    "print(match2) \n",
    "print(match3) \n"
   ]
  },
  {
   "cell_type": "code",
   "execution_count": 44,
   "metadata": {},
   "outputs": [
    {
     "name": "stdout",
     "output_type": "stream",
     "text": [
      "'Hello, world!' matches the pattern '\\w+'\n",
      "<re.Match object; span=(0, 5), match='Hello'>\n",
      "'12345' matches the pattern '\\w+'\n",
      "<re.Match object; span=(0, 5), match='12345'>\n",
      "'   \t' does not match the pattern '\\w+'\n",
      "None\n"
     ]
    }
   ],
   "source": [
    "import re\n",
    "\n",
    "# Define a regular expression pattern to match any string that contains a word character\n",
    "pattern = r'\\w+'\n",
    "\n",
    "# Test the pattern against some example strings\n",
    "strings = ['Hello, world!', '12345', '   \\t']\n",
    "\n",
    "for s in strings:\n",
    "    match = re.match(pattern, s)\n",
    "    if match:\n",
    "        print(f\"'{s}' matches the pattern '{pattern}'\")\n",
    "        print(match)\n",
    "    else:\n",
    "        print(f\"'{s}' does not match the pattern '{pattern}'\")\n",
    "        print(match)\n"
   ]
  },
  {
   "cell_type": "code",
   "execution_count": 47,
   "metadata": {},
   "outputs": [
    {
     "name": "stdout",
     "output_type": "stream",
     "text": [
      "'Hello, world!' does not match the pattern '\\s+'\n",
      "None\n",
      "'12345' does not match the pattern '\\s+'\n",
      "None\n",
      "'   \t' matches the pattern '\\s+'\n",
      "<re.Match object; span=(0, 4), match='   \\t'>\n"
     ]
    }
   ],
   "source": [
    "import re\n",
    "\n",
    "# Define a regular expression pattern to match any string that contains whitespace\n",
    "pattern = r'\\s+'\n",
    "\n",
    "# Test the pattern against some example strings\n",
    "strings = ['Hello, world!', '12345', '   \\t']\n",
    "\n",
    "for s in strings:\n",
    "    match = re.match(pattern, s)\n",
    "    if match:\n",
    "        print(f\"'{s}' matches the pattern '{pattern}'\")\n",
    "        print(match)\n",
    "    else:\n",
    "        print(f\"'{s}' does not match the pattern '{pattern}'\")\n",
    "        print(match)\n"
   ]
  },
  {
   "cell_type": "markdown",
   "metadata": {},
   "source": [
    "#### 13. What do means by \\D, \\W, and \\S shorthand character classes signify in regular expressions?\n",
    "**Ans:** \\D, \\W and \\S are special sequences in regular expresssions in python:\n",
    "1. **`\\W`** – Matches any non-alphanumeric character equivalent to [^a-zA-Z0-9_]\n",
    "2. **`\\D`** – Matches any non-digit character, this is equivalent to the set class [^0-9]\n",
    "3. **`\\S`** – Matches any non-whitespace character"
   ]
  },
  {
   "cell_type": "markdown",
   "metadata": {},
   "source": [
    "#### 14. What is the difference between `.*?` and `.*`?\n",
    "**Ans:** **`.*`** is a Greedy mode, which returns the longest string that meets the condition. Whereas **`.*?`** is a non greedy mode which returns the shortest string that meets the condition."
   ]
  },
  {
   "cell_type": "code",
   "execution_count": 48,
   "metadata": {},
   "outputs": [
    {
     "name": "stdout",
     "output_type": "stream",
     "text": [
      "['<html><head><title>Title</title></head><body>Body</body></html>']\n"
     ]
    }
   ],
   "source": [
    "import re\n",
    "\n",
    "# Define a regular expression pattern that matches any text between two tags\n",
    "pattern = r'<.*>'\n",
    "\n",
    "# Test the pattern against an example string\n",
    "text = '<html><head><title>Title</title></head><body>Body</body></html>'\n",
    "matches = re.findall(pattern, text)\n",
    "\n",
    "print(matches)\n"
   ]
  },
  {
   "cell_type": "code",
   "execution_count": 49,
   "metadata": {},
   "outputs": [
    {
     "name": "stdout",
     "output_type": "stream",
     "text": [
      "['<html>', '<head>', '<title>', '</title>', '</head>', '<body>', '</body>', '</html>']\n"
     ]
    }
   ],
   "source": [
    "# Define a regular expression pattern that matches any text between two tags in a non-greedy way\n",
    "pattern = r'<.*?>'\n",
    "\n",
    "# Test the pattern against the same example string\n",
    "matches = re.findall(pattern, text)\n",
    "\n",
    "print(matches)\n"
   ]
  },
  {
   "cell_type": "markdown",
   "metadata": {},
   "source": [
    "#### 15. What is the syntax for matching both numbers and lowercase letters with a character class?\n",
    "**Ans:** The Synatax is Either **`[a-z0-9]`** or **`[0-9a-z]`**"
   ]
  },
  {
   "cell_type": "markdown",
   "metadata": {},
   "source": [
    "#### 16. What is the procedure for making a normal expression in regax case insensitive?\n",
    "**Ans:** We can pass **`re.IGNORECASE`** as a flag to make a noraml expression case insensitive"
   ]
  },
  {
   "cell_type": "markdown",
   "metadata": {},
   "source": [
    "To make a regular expression case-insensitive in Python, you can use the re.IGNORECASE flag or re.I as a second argument to the re.compile() function."
   ]
  },
  {
   "cell_type": "code",
   "execution_count": 50,
   "metadata": {},
   "outputs": [
    {
     "name": "stdout",
     "output_type": "stream",
     "text": [
      "['Hello']\n",
      "['HELLO']\n",
      "[]\n"
     ]
    }
   ],
   "source": [
    "import re\n",
    "\n",
    "# Define a regular expression pattern\n",
    "pattern = re.compile(r'hello', re.IGNORECASE)\n",
    "\n",
    "# Test the pattern against some example strings\n",
    "text1 = 'Hello, World!'\n",
    "text2 = 'HELLO, WORLD!'\n",
    "text3 = 'Hi there!'\n",
    "matches1 = pattern.findall(text1)\n",
    "matches2 = pattern.findall(text2)\n",
    "matches3 = pattern.findall(text3)\n",
    "\n",
    "print(matches1)  # Output: ['Hello']\n",
    "print(matches2)  # Output: ['HELLO']\n",
    "print(matches3)  # Output: []\n"
   ]
  },
  {
   "cell_type": "markdown",
   "metadata": {},
   "source": [
    "#### 17. What does the . character normally match? What does it match if re.DOTALL is passed as 2nd argument in re.compile()?\n",
    "**Ans:** \n",
    "In regular expressions, the . (dot) character matches any character except for a newline character (\\n).\n",
    "\n",
    "However, if you pass the re.DOTALL flag as the second argument to the re.compile() function, then the dot will match any character, including a newline character."
   ]
  },
  {
   "cell_type": "code",
   "execution_count": 53,
   "metadata": {},
   "outputs": [
    {
     "name": "stdout",
     "output_type": "stream",
     "text": [
      "['<html>', '<head>', '<title>Title</title>', '</head>', '<body>', '</body>', '</html>']\n"
     ]
    }
   ],
   "source": [
    "import re\n",
    "\n",
    "# Define a regular expression pattern that matches any character between two tags\n",
    "pattern = re.compile(r'<.*>')\n",
    "\n",
    "# Test the pattern against an example string\n",
    "text = '<html>\\n<head>\\n<title>Title</title>\\n</head>\\n<body>\\nBody\\n</body>\\n</html>'\n",
    "matches = pattern.findall(text)\n",
    "\n",
    "print(matches)\n"
   ]
  },
  {
   "cell_type": "code",
   "execution_count": 51,
   "metadata": {},
   "outputs": [
    {
     "name": "stdout",
     "output_type": "stream",
     "text": [
      "['<html>\\n<head>\\n<title>Title</title>\\n</head>\\n<body>\\nBody\\n</body>\\n</html>']\n"
     ]
    }
   ],
   "source": [
    "import re\n",
    "\n",
    "# Define a regular expression pattern that matches any character between two tags\n",
    "pattern = re.compile(r'<.*>', re.DOTALL)\n",
    "\n",
    "# Test the pattern against an example string\n",
    "text = '<html>\\n<head>\\n<title>Title</title>\\n</head>\\n<body>\\nBody\\n</body>\\n</html>'\n",
    "matches = pattern.findall(text)\n",
    "\n",
    "print(matches)\n"
   ]
  },
  {
   "cell_type": "markdown",
   "metadata": {},
   "source": [
    "#### 18. If numReg = re.compile(r'\\d+'), what will numRegex.sub('X', '11 drummers, 10 pipers, five rings, 4 hen') return?\n",
    "**Ans:** The Ouput will be **`'X drummers, X pipers, five rings, X hen'`**"
   ]
  },
  {
   "cell_type": "code",
   "execution_count": 54,
   "metadata": {},
   "outputs": [
    {
     "data": {
      "text/plain": [
       "'X drummers, X pipers, five rings, X hen'"
      ]
     },
     "execution_count": 54,
     "metadata": {},
     "output_type": "execute_result"
    }
   ],
   "source": [
    "import re\n",
    "numReg = re.compile(r'\\d+')\n",
    "numReg.sub('X', '11 drummers, 10 pipers, five rings, 4 hen')"
   ]
  },
  {
   "cell_type": "markdown",
   "metadata": {},
   "source": [
    "The sub() method replaces all matches of the numRegex pattern with the string 'X' in the second argument, which is the input string '11 drummers, 10 pipers, five rings, 4 hen'."
   ]
  },
  {
   "cell_type": "markdown",
   "metadata": {},
   "source": [
    "#### 19. What does passing re.VERBOSE as the 2nd argument to re.compile() allow to do?\n",
    "**Ans:** **`re.VERBOSE`** will allow to add whitespace and comments to string passed to **`re.compile()`**."
   ]
  },
  {
   "cell_type": "markdown",
   "metadata": {},
   "source": [
    "The re.VERBOSE flag enables verbose mode, which allows you to break up the regular expression into multiple lines and add comments using the # character. This can be useful for creating complex regular expressions that are easier to read and understand."
   ]
  },
  {
   "cell_type": "code",
   "execution_count": 55,
   "metadata": {},
   "outputs": [
    {
     "name": "stdout",
     "output_type": "stream",
     "text": [
      "555-1234\n"
     ]
    }
   ],
   "source": [
    "import re\n",
    "\n",
    "phoneRegex = re.compile(r'''\n",
    "    (\\d{3}-|\\(\\d{3}\\)\\s?)?   # optional area code\n",
    "    \\d{3}                  # first three digits\n",
    "    -                      # separator\n",
    "    \\d{4}                  # last four digits\n",
    "    \\b                     # word boundary\n",
    "''', re.VERBOSE)\n",
    "\n",
    "# example usage\n",
    "text = \"Call me at 555-1234\"\n",
    "match = phoneRegex.search(text)\n",
    "print(match.group())"
   ]
  },
  {
   "cell_type": "markdown",
   "metadata": {},
   "source": [
    "#### 20. How would you write a regex that match a number with comma for every three digits? It must match the given following:\n",
    "`'42','1,234', '6,368,745'`but not the following: `'12,34,567'` (which has only two digits between the commas) `'1234'` (which lacks commas)"
   ]
  },
  {
   "cell_type": "code",
   "execution_count": 12,
   "metadata": {},
   "outputs": [
    {
     "name": "stdout",
     "output_type": "stream",
     "text": [
      "Output: 42 -> <re.Match object; span=(0, 2), match='42'>\n",
      "Output: 1,234 -> <re.Match object; span=(0, 5), match='1,234'>\n",
      "Output: 6,368,745 -> <re.Match object; span=(0, 9), match='6,368,745'>\n",
      "Output: 12,34,567 -> None\n",
      "Output: 1234 -> None\n"
     ]
    }
   ],
   "source": [
    "import re\n",
    "pattern = r'^\\d{1,3}(,\\d{3})*$'\n",
    "pagex = re.compile(pattern)\n",
    "for ele in ['42','1,234', '6,368,745','12,34,567','1234']:\n",
    "    print('Output:',ele, '->', pagex.search(ele))"
   ]
  },
  {
   "cell_type": "raw",
   "metadata": {},
   "source": [
    "^: This matches the beginning of the string.\n",
    "\n",
    "\\d{1,3}: This matches one to three digits. This means that the string must start with at least one digit, and can have up to three digits.\n",
    "\n",
    "(,\\d{3})*: This matches zero or more occurrences of a comma followed by exactly three digits. This means that the string can have any number of comma-separated groups of three digits.\n",
    "\n",
    "$: This matches the end of the string.\n",
    "\n",
    "So the overall pattern matches strings that start with one to three digits, followed by zero or more comma-separated groups of three digits, and nothing else."
   ]
  },
  {
   "cell_type": "markdown",
   "metadata": {},
   "source": [
    "#### 21. How would you write a regex that matches the full name of someone whose last name is Watanabe? You can assume that the first name that comes before it will always be one word that begins with a capital letter. The regex must match the following:\n",
    "`'Haruto Watanabe'`  \n",
    "`'Alice Watanabe'`  \n",
    "`'RoboCop Watanabe'`  \n",
    "\n",
    "but not the following:\n",
    "\n",
    "`'haruto Watanabe'` (where the first name is not capitalized)  \n",
    "`'Mr. Watanabe'` (where the preceding word has a nonletter character)  \n",
    "`'Watanabe'` (which has no first name)  \n",
    "`'Haruto watanabe'` (where Watanabe is not capitalized)  \n",
    "\n",
    "**Ans:** **`pattern = r'[A-Z]{1}[a-z]*\\sWatanabe'`**"
   ]
  },
  {
   "cell_type": "code",
   "execution_count": 13,
   "metadata": {},
   "outputs": [
    {
     "name": "stdout",
     "output_type": "stream",
     "text": [
      "Output:  Haruto Watanabe -> <re.Match object; span=(0, 15), match='Haruto Watanabe'>\n",
      "Output:  Alice Watanabe -> <re.Match object; span=(0, 14), match='Alice Watanabe'>\n",
      "Output:  RoboCop Watanabe -> <re.Match object; span=(4, 16), match='Cop Watanabe'>\n",
      "Output:  haruto Watanabe -> None\n",
      "Output:  Mr. Watanabe -> None\n",
      "Output:  Watanabe -> None\n",
      "Output:  Haruto watanabe -> None\n"
     ]
    }
   ],
   "source": [
    "import re\n",
    "pattern = r'[A-Z]{1}[a-z]*\\sWatanabe'\n",
    "namex = re.compile(pattern)\n",
    "for name in ['Haruto Watanabe','Alice Watanabe','RoboCop Watanabe','haruto Watanabe','Mr. Watanabe','Watanabe','Haruto watanabe']:\n",
    "    print('Output: ',name,'->',namex.search(name))"
   ]
  },
  {
   "cell_type": "markdown",
   "metadata": {},
   "source": [
    "#### 22. How would you write a regex that matches a sentence where the first word is either Alice, Bob,or Carol; the second word is either eats, pets, or throws; the third word is apples, cats, or baseballs; and the sentence ends with a period? This regex should be case-insensitive. It must match the following:\n",
    "`'Alice eats apples.'`  \n",
    "`'Bob pets cats.'`  \n",
    "`'Carol throws baseballs.'`  \n",
    "`'Alice throws Apples.'`  \n",
    "`'BOB EATS CATS.'`  \n",
    "\n",
    "but not the following:  \n",
    "\n",
    "`'RoboCop eats apples.'`  \n",
    "`'ALICE THROWS FOOTBALLS.'`   \n",
    "`'Carol eats 7 cats.'`  \n",
    "\n",
    "**Ans:** pattern = **`r'(Alice|Bob|Carol)\\s(eats|pets|throws)\\s(apples|cats|baseballs)\\.'`**"
   ]
  },
  {
   "cell_type": "code",
   "execution_count": 14,
   "metadata": {},
   "outputs": [
    {
     "name": "stdout",
     "output_type": "stream",
     "text": [
      "Output:  Alice eats apples. -> <re.Match object; span=(0, 18), match='Alice eats apples.'>\n",
      "Output:  Bob pets cats. -> <re.Match object; span=(0, 14), match='Bob pets cats.'>\n",
      "Output:  Carol throws baseballs. -> <re.Match object; span=(0, 23), match='Carol throws baseballs.'>\n",
      "Output:  Alice throws Apples. -> <re.Match object; span=(0, 20), match='Alice throws Apples.'>\n",
      "Output:  BOB EATS CATS. -> <re.Match object; span=(0, 14), match='BOB EATS CATS.'>\n",
      "Output:  RoboCop eats apples. -> None\n",
      "Output:  ALICE THROWS FOOTBALLS. -> None\n",
      "Output:  Carol eats 7 cats. -> None\n"
     ]
    }
   ],
   "source": [
    "import re\n",
    "pattern = r'(Alice|Bob|Carol)\\s(eats|pets|throws)\\s(apples|cats|baseballs)\\.'\n",
    "casex = re.compile(pattern,re.IGNORECASE)\n",
    "for ele in ['Alice eats apples.','Bob pets cats.','Carol throws baseballs.','Alice throws Apples.','BOB EATS CATS.','RoboCop eats apples.'\n",
    ",'ALICE THROWS FOOTBALLS.','Carol eats 7 cats.']:\n",
    "    print('Output: ',ele,'->',casex.search(ele))"
   ]
  }
 ],
 "metadata": {
  "kernelspec": {
   "display_name": "Python 3 (ipykernel)",
   "language": "python",
   "name": "python3"
  },
  "language_info": {
   "codemirror_mode": {
    "name": "ipython",
    "version": 3
   },
   "file_extension": ".py",
   "mimetype": "text/x-python",
   "name": "python",
   "nbconvert_exporter": "python",
   "pygments_lexer": "ipython3",
   "version": "3.9.12"
  }
 },
 "nbformat": 4,
 "nbformat_minor": 4
}
