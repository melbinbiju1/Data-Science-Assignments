{
 "cells": [
  {
   "cell_type": "markdown",
   "id": "0d355b7d",
   "metadata": {},
   "source": [
    "## Assignment 1 Solutions"
   ]
  },
  {
   "cell_type": "markdown",
   "id": "cb0a3d85",
   "metadata": {},
   "source": [
    "#### 1. In the below elements which of them are values or an expression? **eg:-** values can be integer or string and expressions will be mathematical operators.  \n",
    "`*`,`'hello'`, `-87.8`,`-`,`/`,`+`,`6`"
   ]
  },
  {
   "cell_type": "markdown",
   "id": "b4f7839b",
   "metadata": {},
   "source": [
    "1) * = operator\n",
    "\n",
    "2) 'hello'= value\n",
    "\n",
    "3) -87.8 = value\n",
    "\n",
    "4) - = operator\n",
    "\n",
    "5) / = operator\n",
    "\n",
    "6) + = operator\n",
    "\n",
    "7) 6 = value"
   ]
  },
  {
   "cell_type": "markdown",
   "id": "1201bcd2",
   "metadata": {},
   "source": [
    "#### 2. What is the difference between string and variable?\n",
    "A String is a group of characters or a single character usually enclosed in Double quotes \" \" or single quotes ' '.Examples of characters include letters, numerical digits, common punctuation marks (such as \".\" or \"-\"), and whitespace.\n",
    "Variables are containers for storing data values. For example x= \"melbin\" , Here x is a variable and \"melbin\" is a string."
   ]
  },
  {
   "cell_type": "markdown",
   "id": "1b782709",
   "metadata": {},
   "source": [
    "#### 3. Describe three different data types.\n",
    "String Data Type:\n",
    "String data types are used to represent a sequence of characters or text. This can include letters, numbers, spaces, and symbols.\n",
    "\n",
    "Numeric Data Type:\n",
    "Numeric data types represent numbers, which can be integers, decimals or floating-point numbers,complex numbers.\n",
    "\n",
    "Boolean Data Type:\n",
    "Boolean data types represent two values, either true or false."
   ]
  },
  {
   "cell_type": "markdown",
   "id": "712d78aa",
   "metadata": {},
   "source": [
    "#### 4. What is an expression made up of? What do all expressions do?\n",
    "An expression is a combination of operators, variables, values. Expressions need to be evaluated .All expressions evaluate to a single value."
   ]
  },
  {
   "cell_type": "code",
   "execution_count": 8,
   "id": "f161ad57",
   "metadata": {},
   "outputs": [
    {
     "data": {
      "text/plain": [
       "0"
      ]
     },
     "execution_count": 8,
     "metadata": {},
     "output_type": "execute_result"
    }
   ],
   "source": [
    "4*5+20-40  # this is an expression, it evaluates to zero."
   ]
  },
  {
   "cell_type": "markdown",
   "id": "77247855",
   "metadata": {},
   "source": [
    "#### 5.This assignment statements, like spam = 10. What is the difference between an expression and a statement?\n",
    "An expression is a combination of one or more values, operators and functions that can be evaluated to a single value. Expressions can be simple, like a single variable, or complex, like a combination of multiple operations and functions. For example, \"2 + 3\" is an expression that evaluates to the value 5.\n",
    "\n",
    "A statement, on the other hand, is a complete line of code that performs a specific action, such as declaring a variable, assigning a value to a variable, or calling a function. Statements can be simple, like \"x = 5\", or complex, like an if statement or a loop. Unlike expressions, statements do not necessarily return a value."
   ]
  },
  {
   "cell_type": "code",
   "execution_count": null,
   "id": "3b4f6d30",
   "metadata": {},
   "outputs": [],
   "source": []
  },
  {
   "cell_type": "markdown",
   "id": "de33e2fe",
   "metadata": {},
   "source": [
    "#### 6.After running the following code, what does the variable bacon contain?\n",
    "`bacon = 22`  \n",
    "`bacon + 1`\n",
    "\n",
    "In the first statement,variable bacon contains value 22 and in the next statement,adding 1 to value of bacon, ie 22+1=23.Here variable bacon contains 22 itself."
   ]
  },
  {
   "cell_type": "code",
   "execution_count": 1,
   "id": "42a2280a",
   "metadata": {},
   "outputs": [
    {
     "name": "stdout",
     "output_type": "stream",
     "text": [
      "22\n"
     ]
    }
   ],
   "source": [
    "bacon=22\n",
    "bacon+1\n",
    "print(bacon)"
   ]
  },
  {
   "cell_type": "markdown",
   "id": "09a9644c",
   "metadata": {},
   "source": [
    "#### 7.What should the values of the following two terms be?  \n",
    "`'spam'+'spamspam'`  \n",
    "`'spam'*3`\n",
    "\n",
    " Results of both expressions are same.The first expression follows String Concatentation and the second expression follows String Multiplication"
   ]
  },
  {
   "cell_type": "code",
   "execution_count": 3,
   "id": "18362b6b",
   "metadata": {},
   "outputs": [
    {
     "name": "stdout",
     "output_type": "stream",
     "text": [
      "spamspamspam\n",
      "spamspamspam\n"
     ]
    }
   ],
   "source": [
    "print('spam'+'spamspam') # string concatenation\n",
    "print('spam'*3) # string multiplication"
   ]
  },
  {
   "cell_type": "markdown",
   "id": "8b04f75a",
   "metadata": {},
   "source": [
    "#### 8. Why is eggs a valid variable name while 100 is invalid?\n",
    "\n",
    "As per python,Variable names cannot begin with a number. The python rules for naming a variable are :-\n",
    "\n",
    "1. Variable name must start with a letter or the underscore character.\n",
    "2. Variable name cannot start with a number.\n",
    "3. Variable name can only contain alpha-numeric characters and underscores (A-z, 0-9, & _ ).\n",
    "4. Variable names are case-sensitive (name, INEURON and ineuron are three different variables).\n",
    "5. The reserved words(keywords) cannot be used naming the variable."
   ]
  },
  {
   "cell_type": "code",
   "execution_count": 4,
   "id": "38293428",
   "metadata": {},
   "outputs": [
    {
     "ename": "SyntaxError",
     "evalue": "cannot assign to literal (3634917690.py, line 2)",
     "output_type": "error",
     "traceback": [
      "\u001b[1;36m  Input \u001b[1;32mIn [4]\u001b[1;36m\u001b[0m\n\u001b[1;33m    100='hello' # Invalid Variable Initilization\u001b[0m\n\u001b[1;37m    ^\u001b[0m\n\u001b[1;31mSyntaxError\u001b[0m\u001b[1;31m:\u001b[0m cannot assign to literal\n"
     ]
    }
   ],
   "source": [
    "egg='Ineuron' # Valid variable Initilization\n",
    "100='hello' # Invalid Variable Initilization\n",
    "print(egg) #prints the value of egg ie Ineuron\n",
    "print(100) # Raises a Syntax Error as 100 is not a valid variable name"
   ]
  },
  {
   "cell_type": "markdown",
   "id": "d33a9769",
   "metadata": {},
   "source": [
    "#### 9.What three functions can be used to get the integer,floating-point number,or string version of a value?\n",
    "The `int()`,`float()`,and `str()` functions will evaluate to the integer,floating-point number,string version of the value passed to them."
   ]
  },
  {
   "cell_type": "code",
   "execution_count": 5,
   "id": "4cc1c4c5",
   "metadata": {},
   "outputs": [
    {
     "name": "stdout",
     "output_type": "stream",
     "text": [
      "int(10.0) ->  10\n",
      "float(10) ->  10.0\n",
      "str(10) ->  10\n"
     ]
    }
   ],
   "source": [
    "print('int(10.0) -> ',int(10.0)) # int() function converts given input to int\n",
    "print('float(10) -> ',float(10)) # float() function converts given input to float\n",
    "print('str(10) -> ',str(10)) # str() function converts given input to string"
   ]
  },
  {
   "cell_type": "markdown",
   "id": "04bb7395",
   "metadata": {},
   "source": [
    "#### 10.Why does this expression cause an error? how can you fix it?  \n",
    "`'I have eaten ' + 99 + 'burritos.'`\n",
    "\n",
    "The error occurs because of integer 99.We need to typecast this integer to string to solve the issue here so that string concatenation can done."
   ]
  },
  {
   "cell_type": "code",
   "execution_count": 6,
   "id": "c0fbfdbf",
   "metadata": {},
   "outputs": [
    {
     "name": "stdout",
     "output_type": "stream",
     "text": [
      "I have eaten 99 burritos\n"
     ]
    }
   ],
   "source": [
    "print('I have eaten '+str(99)+' burritos')"
   ]
  },
  {
   "cell_type": "code",
   "execution_count": null,
   "id": "a34722be",
   "metadata": {},
   "outputs": [],
   "source": []
  }
 ],
 "metadata": {
  "kernelspec": {
   "display_name": "Python 3 (ipykernel)",
   "language": "python",
   "name": "python3"
  },
  "language_info": {
   "codemirror_mode": {
    "name": "ipython",
    "version": 3
   },
   "file_extension": ".py",
   "mimetype": "text/x-python",
   "name": "python",
   "nbconvert_exporter": "python",
   "pygments_lexer": "ipython3",
   "version": "3.9.12"
  }
 },
 "nbformat": 4,
 "nbformat_minor": 5
}
