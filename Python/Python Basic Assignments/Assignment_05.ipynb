{
 "cells": [
  {
   "cell_type": "markdown",
   "metadata": {},
   "source": [
    "# Assignment 5 Solutions"
   ]
  },
  {
   "cell_type": "markdown",
   "metadata": {},
   "source": [
    "#### 1.What does an empty dictionary's code look like?\n",
    "**Ans:** An empty dictionary is often represented by two empty curly brackets  \n",
    "`d = {}` or `d = dict()`"
   ]
  },
  {
   "cell_type": "markdown",
   "metadata": {},
   "source": [
    "#### 2.what is the value of dictionary value with key 'foo' and the value 42 ?\n",
    "**Ans:** `{'foo':42}`"
   ]
  },
  {
   "cell_type": "markdown",
   "metadata": {},
   "source": [
    "#### 3.What is the most significant distinction between a dictionary and a list?\n",
    "**Ans:** Dictionaries are represented by `{}` where as listed are represented by `[]`  \n",
    " The Items stored in a dictionary are Unordered , while the items in a list are ordered"
   ]
  },
  {
   "cell_type": "markdown",
   "metadata": {},
   "source": [
    "#### 4.What happens if you try to access spam ['foo'] if spam is {'bar':100} ?"
   ]
  },
  {
   "cell_type": "code",
   "execution_count": 1,
   "metadata": {},
   "outputs": [
    {
     "ename": "KeyError",
     "evalue": "'foo'",
     "output_type": "error",
     "traceback": [
      "\u001b[1;31m---------------------------------------------------------------------------\u001b[0m",
      "\u001b[1;31mKeyError\u001b[0m                                  Traceback (most recent call last)",
      "Input \u001b[1;32mIn [1]\u001b[0m, in \u001b[0;36m<cell line: 2>\u001b[1;34m()\u001b[0m\n\u001b[0;32m      1\u001b[0m spam \u001b[38;5;241m=\u001b[39m {\u001b[38;5;124m'\u001b[39m\u001b[38;5;124mbar\u001b[39m\u001b[38;5;124m'\u001b[39m:\u001b[38;5;241m100\u001b[39m}\n\u001b[1;32m----> 2\u001b[0m \u001b[43mspam\u001b[49m\u001b[43m[\u001b[49m\u001b[38;5;124;43m'\u001b[39;49m\u001b[38;5;124;43mfoo\u001b[39;49m\u001b[38;5;124;43m'\u001b[39;49m\u001b[43m]\u001b[49m\n",
      "\u001b[1;31mKeyError\u001b[0m: 'foo'"
     ]
    }
   ],
   "source": [
    "spam = {'bar':100}\n",
    "spam['foo']\n",
    "#This will give us key error"
   ]
  },
  {
   "cell_type": "markdown",
   "metadata": {},
   "source": [
    "#### 5.if a dictionary is stored in spam,what is the difference between the expressions 'cat' in spam and 'cat' in spam.keys() ?\n",
    "**Ans:** There is no difference . The operator checks whether a value exits as a key in the dictionary or not"
   ]
  },
  {
   "cell_type": "code",
   "execution_count": 4,
   "metadata": {},
   "outputs": [
    {
     "data": {
      "text/plain": [
       "True"
      ]
     },
     "execution_count": 4,
     "metadata": {},
     "output_type": "execute_result"
    }
   ],
   "source": [
    "spam ={'cat':100}\n",
    "'cat' in spam"
   ]
  },
  {
   "cell_type": "code",
   "execution_count": 6,
   "metadata": {},
   "outputs": [
    {
     "data": {
      "text/plain": [
       "True"
      ]
     },
     "execution_count": 6,
     "metadata": {},
     "output_type": "execute_result"
    }
   ],
   "source": [
    "'cat' in spam.keys()\n",
    "#There is no differnce, both check if 'cat' is key of the dictionary and if its a key, returns True."
   ]
  },
  {
   "cell_type": "markdown",
   "metadata": {},
   "source": [
    "#### 6.if a dictionary is stored in spam,what is the difference between the expressions 'cat' in spam and 'cat' in spam.values() ?\n",
    "**Ans:**'cat' in spam checks whether there is a 'cat' key in the dictionary, while 'cat' in spam.values() checks whether there is a value 'cat' for one of the keys in spam."
   ]
  },
  {
   "cell_type": "code",
   "execution_count": 7,
   "metadata": {},
   "outputs": [
    {
     "data": {
      "text/plain": [
       "True"
      ]
     },
     "execution_count": 7,
     "metadata": {},
     "output_type": "execute_result"
    }
   ],
   "source": [
    "spam ={'cat':100}\n",
    "'cat' in spam"
   ]
  },
  {
   "cell_type": "code",
   "execution_count": 8,
   "metadata": {},
   "outputs": [
    {
     "data": {
      "text/plain": [
       "False"
      ]
     },
     "execution_count": 8,
     "metadata": {},
     "output_type": "execute_result"
    }
   ],
   "source": [
    "spam ={'cat':100}\n",
    "'cat' in spam.values()\n",
    "\n",
    "#'cat' in spam checks whether there is a 'cat' key in the dictionary\n",
    "#'cat' in spam.values() checks whether there is a value 'cat' for one of the keys in spam."
   ]
  },
  {
   "cell_type": "markdown",
   "metadata": {},
   "source": [
    "#### 7.what is a shortcut for the following code ?\n",
    "`if 'color' not in spam:\n",
    "    spam['color'] ='black'`\n",
    "    \n",
    "**Ans:** `spam.setdefault('color','black')`"
   ]
  },
  {
   "cell_type": "code",
   "execution_count": 9,
   "metadata": {},
   "outputs": [
    {
     "data": {
      "text/plain": [
       "{'cat': 100, 'color': 'black'}"
      ]
     },
     "execution_count": 9,
     "metadata": {},
     "output_type": "execute_result"
    }
   ],
   "source": [
    "spam ={'cat':100}\n",
    "spam.setdefault('color','black')\n",
    "spam"
   ]
  },
  {
   "cell_type": "markdown",
   "metadata": {},
   "source": [
    "#### 8.How do you 'pretty print' dictionary values using which modules and function ?\n",
    "**Ans:** we can pretty print a dictionary using three functions\n",
    "1. by using pprint() function of pprint module\n",
    "    * **Note:** pprint() function doesnot prettify nested dictionaries\n",
    "2. by using dumps() method of json module\n",
    "3. by using dumps() method of yaml module\n"
   ]
  },
  {
   "cell_type": "code",
   "execution_count": 1,
   "metadata": {},
   "outputs": [
    {
     "name": "stdout",
     "output_type": "stream",
     "text": [
      "Printing using print() function\n",
      " [{'Name': 'John', 'Age': '23', 'Residence': {'Country': 'USA', 'City': 'New York'}}, {'Name': 'Jose', 'Age': '44', 'Residence': {'Country': 'Spain', 'City': 'Madrid'}}, {'Name': 'Anne', 'Age': '29', 'Residence': {'Country': 'UK', 'City': 'England'}}, {'Name': 'Lee', 'Age': '35', 'Residence': {'Country': 'Japan', 'City': 'Osaka'}}]\n",
      "----------------------------------------------------------------------\n",
      "Printing using pprint() funciton\n",
      "[{'Age': '23',\n",
      "  'Name': 'John',\n",
      "  'Residence': {'City': 'New York', 'Country': 'USA'}},\n",
      " {'Age': '44',\n",
      "  'Name': 'Jose',\n",
      "  'Residence': {'City': 'Madrid', 'Country': 'Spain'}},\n",
      " {'Age': '29',\n",
      "  'Name': 'Anne',\n",
      "  'Residence': {'City': 'England', 'Country': 'UK'}},\n",
      " {'Age': '35',\n",
      "  'Name': 'Lee',\n",
      "  'Residence': {'City': 'Osaka', 'Country': 'Japan'}}]\n",
      "----------------------------------------------------------------------\n",
      "Printing using dumps() method\n",
      " [\n",
      "    {\n",
      "        \"Name\": \"John\",\n",
      "        \"Age\": \"23\",\n",
      "        \"Residence\": {\n",
      "            \"Country\": \"USA\",\n",
      "            \"City\": \"New York\"\n",
      "        }\n",
      "    },\n",
      "    {\n",
      "        \"Name\": \"Jose\",\n",
      "        \"Age\": \"44\",\n",
      "        \"Residence\": {\n",
      "            \"Country\": \"Spain\",\n",
      "            \"City\": \"Madrid\"\n",
      "        }\n",
      "    },\n",
      "    {\n",
      "        \"Name\": \"Anne\",\n",
      "        \"Age\": \"29\",\n",
      "        \"Residence\": {\n",
      "            \"Country\": \"UK\",\n",
      "            \"City\": \"England\"\n",
      "        }\n",
      "    },\n",
      "    {\n",
      "        \"Name\": \"Lee\",\n",
      "        \"Age\": \"35\",\n",
      "        \"Residence\": {\n",
      "            \"Country\": \"Japan\",\n",
      "            \"City\": \"Osaka\"\n",
      "        }\n",
      "    }\n",
      "]\n",
      "----------------------------------------------------------------------\n",
      "Printing using dump() method\n",
      " - Age: '23'\n",
      "  Name: John\n",
      "  Residence:\n",
      "    City: New York\n",
      "    Country: USA\n",
      "- Age: '44'\n",
      "  Name: Jose\n",
      "  Residence:\n",
      "    City: Madrid\n",
      "    Country: Spain\n",
      "- Age: '29'\n",
      "  Name: Anne\n",
      "  Residence:\n",
      "    City: England\n",
      "    Country: UK\n",
      "- Age: '35'\n",
      "  Name: Lee\n",
      "  Residence:\n",
      "    City: Osaka\n",
      "    Country: Japan\n",
      "\n"
     ]
    }
   ],
   "source": [
    "ndict = [\n",
    "  {'Name': 'John', 'Age': '23', 'Residence': {'Country':'USA', 'City': 'New York'}},\n",
    "  {'Name': 'Jose', 'Age': '44', 'Residence': {'Country':'Spain', 'City': 'Madrid'}},\n",
    "  {'Name': 'Anne', 'Age': '29', 'Residence': {'Country':'UK', 'City': 'England'}},\n",
    "  {'Name': 'Lee', 'Age': '35', 'Residence': {'Country':'Japan', 'City': 'Osaka'}}\n",
    "]\n",
    "\n",
    "print('Printing using print() function\\n',ndict)\n",
    "print('-'*70)\n",
    "import pprint\n",
    "print('Printing using pprint() funciton')\n",
    "pprint.pprint(ndict)\n",
    "print('-'*70)\n",
    "import json\n",
    "dump = json.dumps(ndict, indent=4)\n",
    "print('Printing using dumps() method\\n', dump)\n",
    "print('-'*70)\n",
    "import yaml\n",
    "dump = yaml.dump(ndict)\n",
    "print('Printing using dump() method\\n', dump)\n"
   ]
  }
 ],
 "metadata": {
  "kernelspec": {
   "display_name": "Python 3 (ipykernel)",
   "language": "python",
   "name": "python3"
  },
  "language_info": {
   "codemirror_mode": {
    "name": "ipython",
    "version": 3
   },
   "file_extension": ".py",
   "mimetype": "text/x-python",
   "name": "python",
   "nbconvert_exporter": "python",
   "pygments_lexer": "ipython3",
   "version": "3.9.12"
  }
 },
 "nbformat": 4,
 "nbformat_minor": 4
}
